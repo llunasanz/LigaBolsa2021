{
 "cells": [
  {
   "cell_type": "markdown",
   "id": "07e1340f",
   "metadata": {},
   "source": [
    "<h1> Pruebas para Liga de Bolsa </h1>"
   ]
  },
  {
   "cell_type": "markdown",
   "id": "27cba82b",
   "metadata": {},
   "source": [
    "<h2> Descargar información de las cotizaciones </h2>"
   ]
  },
  {
   "cell_type": "markdown",
   "id": "5c4f74eb",
   "metadata": {},
   "source": [
    "Se guardarán la información de la cotización en un dataframe de pequeñas dimensiones y con la mínima información posible para ahorrar memoria."
   ]
  },
  {
   "cell_type": "code",
   "execution_count": 1,
   "id": "7f9be66b",
   "metadata": {},
   "outputs": [],
   "source": [
    "# Install investpy package. This first command does not work.\n",
    "# ! pip install git+https://github.com/alvarobartt/investpy.git@master\n",
    "# This one works!\n",
    "#! pip install investpy"
   ]
  },
  {
   "cell_type": "code",
   "execution_count": 2,
   "id": "e0a2fa56",
   "metadata": {},
   "outputs": [],
   "source": [
    "import investpy\n",
    "import numpy as np\n",
    "import pandas as pd\n",
    "import statistics"
   ]
  },
  {
   "cell_type": "code",
   "execution_count": 3,
   "id": "0252db01",
   "metadata": {},
   "outputs": [
    {
     "data": {
      "text/html": [
       "<div>\n",
       "<style scoped>\n",
       "    .dataframe tbody tr th:only-of-type {\n",
       "        vertical-align: middle;\n",
       "    }\n",
       "\n",
       "    .dataframe tbody tr th {\n",
       "        vertical-align: top;\n",
       "    }\n",
       "\n",
       "    .dataframe thead th {\n",
       "        text-align: right;\n",
       "    }\n",
       "</style>\n",
       "<table border=\"1\" class=\"dataframe\">\n",
       "  <thead>\n",
       "    <tr style=\"text-align: right;\">\n",
       "      <th></th>\n",
       "      <th>Open</th>\n",
       "      <th>High</th>\n",
       "      <th>Low</th>\n",
       "      <th>Close</th>\n",
       "      <th>Volume</th>\n",
       "      <th>Currency</th>\n",
       "    </tr>\n",
       "    <tr>\n",
       "      <th>Date</th>\n",
       "      <th></th>\n",
       "      <th></th>\n",
       "      <th></th>\n",
       "      <th></th>\n",
       "      <th></th>\n",
       "      <th></th>\n",
       "    </tr>\n",
       "  </thead>\n",
       "  <tbody>\n",
       "    <tr>\n",
       "      <th>2020-01-02</th>\n",
       "      <td>74.06</td>\n",
       "      <td>75.15</td>\n",
       "      <td>73.80</td>\n",
       "      <td>75.09</td>\n",
       "      <td>135647008</td>\n",
       "      <td>USD</td>\n",
       "    </tr>\n",
       "    <tr>\n",
       "      <th>2020-01-03</th>\n",
       "      <td>74.29</td>\n",
       "      <td>75.14</td>\n",
       "      <td>74.13</td>\n",
       "      <td>74.36</td>\n",
       "      <td>146536000</td>\n",
       "      <td>USD</td>\n",
       "    </tr>\n",
       "    <tr>\n",
       "      <th>2020-01-06</th>\n",
       "      <td>73.45</td>\n",
       "      <td>74.99</td>\n",
       "      <td>73.19</td>\n",
       "      <td>74.95</td>\n",
       "      <td>118579000</td>\n",
       "      <td>USD</td>\n",
       "    </tr>\n",
       "    <tr>\n",
       "      <th>2020-01-07</th>\n",
       "      <td>74.96</td>\n",
       "      <td>75.22</td>\n",
       "      <td>74.37</td>\n",
       "      <td>74.60</td>\n",
       "      <td>111511000</td>\n",
       "      <td>USD</td>\n",
       "    </tr>\n",
       "    <tr>\n",
       "      <th>2020-01-08</th>\n",
       "      <td>74.29</td>\n",
       "      <td>76.11</td>\n",
       "      <td>74.29</td>\n",
       "      <td>75.80</td>\n",
       "      <td>132364000</td>\n",
       "      <td>USD</td>\n",
       "    </tr>\n",
       "    <tr>\n",
       "      <th>...</th>\n",
       "      <td>...</td>\n",
       "      <td>...</td>\n",
       "      <td>...</td>\n",
       "      <td>...</td>\n",
       "      <td>...</td>\n",
       "      <td>...</td>\n",
       "    </tr>\n",
       "    <tr>\n",
       "      <th>2021-10-25</th>\n",
       "      <td>148.68</td>\n",
       "      <td>149.37</td>\n",
       "      <td>147.62</td>\n",
       "      <td>148.64</td>\n",
       "      <td>50380000</td>\n",
       "      <td>USD</td>\n",
       "    </tr>\n",
       "    <tr>\n",
       "      <th>2021-10-26</th>\n",
       "      <td>149.33</td>\n",
       "      <td>150.84</td>\n",
       "      <td>149.01</td>\n",
       "      <td>149.32</td>\n",
       "      <td>60632000</td>\n",
       "      <td>USD</td>\n",
       "    </tr>\n",
       "    <tr>\n",
       "      <th>2021-10-27</th>\n",
       "      <td>149.36</td>\n",
       "      <td>149.73</td>\n",
       "      <td>148.49</td>\n",
       "      <td>148.85</td>\n",
       "      <td>55788000</td>\n",
       "      <td>USD</td>\n",
       "    </tr>\n",
       "    <tr>\n",
       "      <th>2021-10-28</th>\n",
       "      <td>149.82</td>\n",
       "      <td>153.16</td>\n",
       "      <td>149.72</td>\n",
       "      <td>152.57</td>\n",
       "      <td>89713000</td>\n",
       "      <td>USD</td>\n",
       "    </tr>\n",
       "    <tr>\n",
       "      <th>2021-10-29</th>\n",
       "      <td>147.21</td>\n",
       "      <td>149.94</td>\n",
       "      <td>146.41</td>\n",
       "      <td>149.80</td>\n",
       "      <td>123364000</td>\n",
       "      <td>USD</td>\n",
       "    </tr>\n",
       "  </tbody>\n",
       "</table>\n",
       "<p>462 rows × 6 columns</p>\n",
       "</div>"
      ],
      "text/plain": [
       "              Open    High     Low   Close     Volume Currency\n",
       "Date                                                          \n",
       "2020-01-02   74.06   75.15   73.80   75.09  135647008      USD\n",
       "2020-01-03   74.29   75.14   74.13   74.36  146536000      USD\n",
       "2020-01-06   73.45   74.99   73.19   74.95  118579000      USD\n",
       "2020-01-07   74.96   75.22   74.37   74.60  111511000      USD\n",
       "2020-01-08   74.29   76.11   74.29   75.80  132364000      USD\n",
       "...            ...     ...     ...     ...        ...      ...\n",
       "2021-10-25  148.68  149.37  147.62  148.64   50380000      USD\n",
       "2021-10-26  149.33  150.84  149.01  149.32   60632000      USD\n",
       "2021-10-27  149.36  149.73  148.49  148.85   55788000      USD\n",
       "2021-10-28  149.82  153.16  149.72  152.57   89713000      USD\n",
       "2021-10-29  147.21  149.94  146.41  149.80  123364000      USD\n",
       "\n",
       "[462 rows x 6 columns]"
      ]
     },
     "execution_count": 3,
     "metadata": {},
     "output_type": "execute_result"
    }
   ],
   "source": [
    "# Load some historical data from the AAPL stock. Date format is: dd/mm/yyyy\n",
    "    # Frequency: daily\n",
    "    # Open, maximum, minimum and close prices, volume and currency.\n",
    "df = investpy.get_stock_historical_data(stock='AAPL', country='United States', from_date='01/01/2020', to_date='30/10/2021')\n",
    "df\n",
    "\n",
    "# Get the five first values of volume from the df dataframe\n",
    "# with these example options:\n",
    "# 1. df.iloc[0:5][\"Volume\"] \n",
    "# 2. df.head()[\"Volume\"]\n",
    "\n",
    "# The same, but with the last five values:\n",
    "# 1. df.iloc[-5:][\"Volume\"]\n",
    "# 2. df.tail()[\"Volume\"]"
   ]
  },
  {
   "cell_type": "code",
   "execution_count": 4,
   "id": "17dbbe39",
   "metadata": {},
   "outputs": [
    {
     "name": "stdout",
     "output_type": "stream",
     "text": [
      "{'prevClose': 152.57, 'dailyRange': '146.41-149.94', 'revenue': 347160000000, 'open': 147.21, 'weekRange': '107.32-157.26', 'eps': 5.61, 'volume': 120511817, 'marketCap': 2460000000000, 'dividend': '0.88(0.58%)', 'avgVolume': 74388303, 'ratio': 26.72, 'beta': 1.21, 'oneYearReturn': '29.91%', 'sharesOutstanding': 16406397000, 'nextEarningDate': '01/02/2022'}\n"
     ]
    },
    {
     "data": {
      "text/plain": [
       "'\\n# avgVolume: 74388303\\n\\nfor x in range(1, len(df[\"Volume\"])):\\n    print(f\"{x}: {df.tail(x)[\\'Volume\\'].mean()}\")\\n    # mean output 29 is similar\\n\\nfor x in range(1, len(df[\"Volume\"])):\\n    print(f\"{x}: {df.tail(x)[\\'Volume\\'].median()}\")\\n    # median output 30 is similar\\n'"
      ]
     },
     "execution_count": 4,
     "metadata": {},
     "output_type": "execute_result"
    }
   ],
   "source": [
    "# Load futher data from a stock\n",
    "\n",
    "# Apple stock will be saved at search_result\n",
    "search_result = investpy.search_quotes(text='apple', products=['stocks'], countries=['united states'], n_results=1)\n",
    "# Save the information in a dict variable\n",
    "information = search_result.retrieve_information()\n",
    "print(information)\n",
    "\n",
    "# Technical information:\n",
    "    # prevClose, dailyRange, open (most recent), weekRange (most recent), volume(unkwown) avgVolume(it could be weekly)\n",
    "# Fundamental information:\n",
    "    # revenue, eps (earning per share), marketCap, dividend (last), ratio (P/E).\n",
    "# Other or both\n",
    "    # beta, oneYearReturn, sharesOutstanding, nextEarningDate\n",
    "\n",
    "'''\n",
    "# avgVolume: 74388303\n",
    "\n",
    "for x in range(1, len(df[\"Volume\"])):\n",
    "    print(f\"{x}: {df.tail(x)['Volume'].mean()}\")\n",
    "    # mean output 29 is similar\n",
    "\n",
    "for x in range(1, len(df[\"Volume\"])):\n",
    "    print(f\"{x}: {df.tail(x)['Volume'].median()}\")\n",
    "    # median output 30 is similar\n",
    "'''\n"
   ]
  },
  {
   "cell_type": "code",
   "execution_count": 5,
   "id": "ab03671c",
   "metadata": {},
   "outputs": [],
   "source": [
    "# import investpy\n",
    "\n",
    "# s_results = investpy.search_quotes(text='a', products=['stocks'], countries=['united states'], n_results=10)\n",
    "\n",
    "# s_results = map(lambda x: print(x), s_results)"
   ]
  },
  {
   "cell_type": "markdown",
   "id": "a77b3d83",
   "metadata": {},
   "source": [
    "## Technical analysis\n",
    "Futher information [here](https://medium.com/codex/this-python-library-will-help-you-get-stock-technical-indicators-in-one-line-of-code-c11ed2c8e45f) (tockstats) and [here](https://towardsdatascience.com/technical-analysis-library-to-financial-datasets-with-pandas-python-4b2b390d3543) (ta)."
   ]
  },
  {
   "cell_type": "code",
   "execution_count": 11,
   "id": "d6a0fe30",
   "metadata": {},
   "outputs": [
    {
     "name": "stdout",
     "output_type": "stream",
     "text": [
      "Collecting stockstats\n",
      "  Using cached stockstats-0.3.2-py2.py3-none-any.whl (13 kB)\n",
      "Collecting int-date>=0.1.7\n",
      "  Using cached int_date-0.1.8-py2.py3-none-any.whl (5.0 kB)\n",
      "Requirement already satisfied: numpy>=1.9.2 in c:\\programdata\\anaconda3\\lib\\site-packages (from stockstats) (1.20.3)\n",
      "Requirement already satisfied: pandas>=0.18.1 in c:\\programdata\\anaconda3\\lib\\site-packages (from stockstats) (1.3.3)\n",
      "Requirement already satisfied: six>=1.9.0 in c:\\programdata\\anaconda3\\lib\\site-packages (from int-date>=0.1.7->stockstats) (1.16.0)\n",
      "Requirement already satisfied: python-dateutil>=2.4.2 in c:\\programdata\\anaconda3\\lib\\site-packages (from int-date>=0.1.7->stockstats) (2.8.2)\n",
      "Requirement already satisfied: pytz>=2017.3 in c:\\programdata\\anaconda3\\lib\\site-packages (from pandas>=0.18.1->stockstats) (2021.1)\n",
      "Installing collected packages: int-date, stockstats\n",
      "Successfully installed int-date-0.1.8 stockstats-0.3.2\n",
      "Requirement already satisfied: ta in c:\\programdata\\anaconda3\\lib\\site-packages (0.7.0)\n",
      "Requirement already satisfied: numpy in c:\\programdata\\anaconda3\\lib\\site-packages (from ta) (1.20.3)\n",
      "Requirement already satisfied: pandas in c:\\programdata\\anaconda3\\lib\\site-packages (from ta) (1.3.3)\n",
      "Requirement already satisfied: pytz>=2017.3 in c:\\programdata\\anaconda3\\lib\\site-packages (from pandas->ta) (2021.1)\n",
      "Requirement already satisfied: python-dateutil>=2.7.3 in c:\\programdata\\anaconda3\\lib\\site-packages (from pandas->ta) (2.8.2)\n",
      "Requirement already satisfied: six>=1.5 in c:\\programdata\\anaconda3\\lib\\site-packages (from python-dateutil>=2.7.3->pandas->ta) (1.16.0)\n"
     ]
    }
   ],
   "source": [
    "! pip3 install stockstats\n",
    "! pip3 install ta"
   ]
  },
  {
   "cell_type": "code",
   "execution_count": 12,
   "id": "361645f9",
   "metadata": {},
   "outputs": [],
   "source": [
    "# Technical analysis libraries\n",
    "import stockstats\n",
    "import ta\n",
    "\n"
   ]
  },
  {
   "cell_type": "code",
   "execution_count": null,
   "id": "20b95620",
   "metadata": {},
   "outputs": [],
   "source": []
  }
 ],
 "metadata": {
  "kernelspec": {
   "display_name": "Python 3 (ipykernel)",
   "language": "python",
   "name": "python3"
  },
  "language_info": {
   "codemirror_mode": {
    "name": "ipython",
    "version": 3
   },
   "file_extension": ".py",
   "mimetype": "text/x-python",
   "name": "python",
   "nbconvert_exporter": "python",
   "pygments_lexer": "ipython3",
   "version": "3.8.8"
  }
 },
 "nbformat": 4,
 "nbformat_minor": 5
}
